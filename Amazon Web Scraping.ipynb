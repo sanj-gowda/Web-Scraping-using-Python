{
 "cells": [
  {
   "cell_type": "code",
   "execution_count": 2,
   "id": "6ce2a5c2-aa96-4616-b4f0-83db9a8c40ce",
   "metadata": {},
   "outputs": [],
   "source": [
    "from bs4 import BeautifulSoup\n",
    "import requests\n",
    "import smtplib\n",
    "import time\n",
    "import datetime"
   ]
  },
  {
   "cell_type": "code",
   "execution_count": 61,
   "id": "58564539-78e2-4533-a3e7-7e0c80734d62",
   "metadata": {},
   "outputs": [
    {
     "name": "stdout",
     "output_type": "stream",
     "text": [
      "\n",
      "             Rhode by Hailey Bieber The Peptide Lip TINTS SET ALL FOUR SHADES TOGETHER, 10ml/.3\n",
      "            \n",
      "\n",
      "                 $84.90\n",
      "                \n",
      "\n",
      "               Rhode\n",
      "              \n"
     ]
    }
   ],
   "source": [
    "#Connecting to website\n",
    "\n",
    "URL = 'https://www.amazon.com/Rhode-Hailey-Bieber-Peptide-TOGETHER/dp/B0D5SLJHT6/ref=sr_1_10?crid=36CKOFF4HF4G2&dib=eyJ2IjoiMSJ9.P7TI6X-3sZWi1zKgRXTJCP3fopCMXnbnPynE6sBlL4YytrQ0Pq1N_fD8595acOClz5I7IJQspuHC9sOWd2e-BPt4gwVNOyFxNbAtGvOBdEdEgp2vDhRWrwxMPTixlmdU3CNgvy4LXBsdaDioDFRptEBb3afutabYvZk1Ftx-caMCRgpcwBMakrHPvk6S9tMcuV9nC59-f8I0bl0c2Ks62CsrZvNzgrJBbvvgwFCqL_LdD4aZH4QF8w-3IpBguNJJ9kmgs5uqEi_bCWKlJl2GCDq5oL0_IWvzHtXaigAcOH8.j4eUO6t2DwS8CAUHrVaUirEjVaLL9jMZaq-wPlDkz-A&dib_tag=se&keywords=rhode&qid=1727934516&sprefix=rhode%2Caps%2C109&sr=8-10'\n",
    "headers = {\"User-Agent\": \"Mozilla/5.0 (Macintosh; Intel Mac OS X 10_15_7) AppleWebKit/537.36 (KHTML, like Gecko) Chrome/128.0.0.0 Safari/537.36\", \"Accept-Encoding\":\"gzip, deflate\", \"Accept\":\"text/html,application/xhtml+xml,application/xml;q=0.9,*/*;q=0.8\", \"DNT\":\"1\",\"Connection\":\"close\", \"Upgrade-Insecure-Requests\":\"1\"}\n",
    "\n",
    "page = requests.get(URL, headers=headers)\n",
    "\n",
    "soup1 = BeautifulSoup(page.content, 'html.parser')\n",
    "soup2 = BeautifulSoup(soup1.prettify(), 'html.parser')\n",
    "\n",
    "title = soup2.find(id='productTitle').get_text()\n",
    "price = soup2.find(class_='aok-offscreen').get_text()\n",
    "brand = soup2.find(class_='a-size-base po-break-word').get_text()\n",
    "\n",
    "print(title)\n",
    "print(price)\n",
    "print(brand)"
   ]
  },
  {
   "cell_type": "code",
   "execution_count": 63,
   "id": "b9626393-40ac-4200-b1fa-193102b75352",
   "metadata": {},
   "outputs": [
    {
     "name": "stdout",
     "output_type": "stream",
     "text": [
      "Rhode by Hailey Bieber The Peptide Lip TINTS SET ALL FOUR SHADES TOGETHER, 10ml/.3\n",
      "84.90\n",
      "Rhode\n"
     ]
    }
   ],
   "source": [
    "title = title.strip()\n",
    "price = price.strip()[1:]\n",
    "brand = brand.strip()\n",
    "\n",
    "print(title)\n",
    "print(price)\n",
    "print(brand)"
   ]
  },
  {
   "cell_type": "code",
   "execution_count": 65,
   "id": "b252421f-b031-4192-a8fb-f739e287a63f",
   "metadata": {},
   "outputs": [
    {
     "name": "stdout",
     "output_type": "stream",
     "text": [
      "2024-10-03\n"
     ]
    }
   ],
   "source": [
    "today = datetime.date.today()\n",
    "print(today)"
   ]
  },
  {
   "cell_type": "code",
   "execution_count": 67,
   "id": "39f1c53f-44ac-4ed5-b6a3-edb4fa146db9",
   "metadata": {},
   "outputs": [],
   "source": [
    "import csv\n",
    "\n",
    "header = ['Title', 'Price', 'Date', 'Brand']\n",
    "data = [title, price, today, brand]\n",
    "\n",
    "with open('WebScrapedData.csv', 'w', newline='', encoding='UTF8') as f:\n",
    "    writer = csv.writer(f)\n",
    "    writer.writerow(header)\n",
    "    writer.writerow(data)"
   ]
  },
  {
   "cell_type": "code",
   "execution_count": 69,
   "id": "c7999e7d-254a-442b-9ede-5cde1bce81b8",
   "metadata": {},
   "outputs": [
    {
     "data": {
      "text/html": [
       "<div>\n",
       "<style scoped>\n",
       "    .dataframe tbody tr th:only-of-type {\n",
       "        vertical-align: middle;\n",
       "    }\n",
       "\n",
       "    .dataframe tbody tr th {\n",
       "        vertical-align: top;\n",
       "    }\n",
       "\n",
       "    .dataframe thead th {\n",
       "        text-align: right;\n",
       "    }\n",
       "</style>\n",
       "<table border=\"1\" class=\"dataframe\">\n",
       "  <thead>\n",
       "    <tr style=\"text-align: right;\">\n",
       "      <th></th>\n",
       "      <th>Title</th>\n",
       "      <th>Price</th>\n",
       "      <th>Date</th>\n",
       "      <th>Brand</th>\n",
       "    </tr>\n",
       "  </thead>\n",
       "  <tbody>\n",
       "    <tr>\n",
       "      <th>0</th>\n",
       "      <td>Rhode by Hailey Bieber The Peptide Lip TINTS S...</td>\n",
       "      <td>84.9</td>\n",
       "      <td>2024-10-03</td>\n",
       "      <td>Rhode</td>\n",
       "    </tr>\n",
       "  </tbody>\n",
       "</table>\n",
       "</div>"
      ],
      "text/plain": [
       "                                               Title  Price        Date  Brand\n",
       "0  Rhode by Hailey Bieber The Peptide Lip TINTS S...   84.9  2024-10-03  Rhode"
      ]
     },
     "execution_count": 69,
     "metadata": {},
     "output_type": "execute_result"
    }
   ],
   "source": [
    "import pandas as pd\n",
    "\n",
    "df = pd.read_csv('WebScrapedData.csv')\n",
    "df "
   ]
  },
  {
   "cell_type": "code",
   "execution_count": null,
   "id": "1fbf2883-9694-49b6-85c3-a55646201667",
   "metadata": {},
   "outputs": [],
   "source": [
    "#Appending data to csv\n",
    "\n",
    "with open('WebScrapedData.csv', 'a+', newline='', encoding='UTF8') as f:\n",
    "    writer = csv.writer(f) \n",
    "    writer.writerow(data)"
   ]
  },
  {
   "cell_type": "code",
   "execution_count": 71,
   "id": "8638b8cb-2e5c-41d9-a0de-120e2977ba92",
   "metadata": {},
   "outputs": [],
   "source": [
    "def check_price():\n",
    "    URL = 'https://www.amazon.com/Rhode-Hailey-Bieber-Peptide-TOGETHER/dp/B0D5SLJHT6/ref=sr_1_10?crid=36CKOFF4HF4G2&dib=eyJ2IjoiMSJ9.P7TI6X-3sZWi1zKgRXTJCP3fopCMXnbnPynE6sBlL4YytrQ0Pq1N_fD8595acOClz5I7IJQspuHC9sOWd2e-BPt4gwVNOyFxNbAtGvOBdEdEgp2vDhRWrwxMPTixlmdU3CNgvy4LXBsdaDioDFRptEBb3afutabYvZk1Ftx-caMCRgpcwBMakrHPvk6S9tMcuV9nC59-f8I0bl0c2Ks62CsrZvNzgrJBbvvgwFCqL_LdD4aZH4QF8w-3IpBguNJJ9kmgs5uqEi_bCWKlJl2GCDq5oL0_IWvzHtXaigAcOH8.j4eUO6t2DwS8CAUHrVaUirEjVaLL9jMZaq-wPlDkz-A&dib_tag=se&keywords=rhode&qid=1727934516&sprefix=rhode%2Caps%2C109&sr=8-10'\n",
    "    headers = {\"User-Agent\": \"Mozilla/5.0 (Macintosh; Intel Mac OS X 10_15_7) AppleWebKit/537.36 (KHTML, like Gecko) Chrome/128.0.0.0 Safari/537.36\", \"Accept-Encoding\":\"gzip, deflate\", \"Accept\":\"text/html,application/xhtml+xml,application/xml;q=0.9,*/*;q=0.8\", \"DNT\":\"1\",\"Connection\":\"close\", \"Upgrade-Insecure-Requests\":\"1\"}\n",
    "\n",
    "    page = requests.get(URL, headers=headers)\n",
    "\n",
    "    soup1 = BeautifulSoup(page.content, 'html.parser')\n",
    "    soup2 = BeautifulSoup(soup1.prettify(), 'html.parser')\n",
    "\n",
    "    title = soup2.find(id='productTitle').get_text()\n",
    "    price = soup2.find(class_='aok-offscreen').get_text()\n",
    "    brand = soup2.find(class_='a-size-base po-break-word').get_text()\n",
    "\n",
    "    title = title.strip()\n",
    "    price = price.strip()[1:]\n",
    "    brand = brand.strip()\n",
    "\n",
    "    today = datetime.date.today()\n",
    "\n",
    "    header = ['Title', 'Price', 'Date', 'Brand']\n",
    "    data = [title, price, today, brand]\n",
    "\n",
    "    with open('WebScrapedData.csv', 'a+', newline='', encoding='UTF8') as f:\n",
    "        writer = csv.writer(f) \n",
    "        writer.writerow(data)\n",
    "\n",
    "        if (price<60):\n",
    "            send_mail()"
   ]
  },
  {
   "cell_type": "code",
   "execution_count": 73,
   "id": "7becc5a1-d4fb-4bb9-9dda-7970d2e1d9f4",
   "metadata": {},
   "outputs": [
    {
     "ename": "KeyboardInterrupt",
     "evalue": "",
     "output_type": "error",
     "traceback": [
      "\u001b[0;31m---------------------------------------------------------------------------\u001b[0m",
      "\u001b[0;31mKeyboardInterrupt\u001b[0m                         Traceback (most recent call last)",
      "Cell \u001b[0;32mIn[73], line 3\u001b[0m\n\u001b[1;32m      1\u001b[0m \u001b[38;5;28;01mwhile\u001b[39;00m(\u001b[38;5;28;01mTrue\u001b[39;00m):\n\u001b[1;32m      2\u001b[0m     check_price()\n\u001b[0;32m----> 3\u001b[0m     time\u001b[38;5;241m.\u001b[39msleep(\u001b[38;5;241m5\u001b[39m)\n",
      "\u001b[0;31mKeyboardInterrupt\u001b[0m: "
     ]
    }
   ],
   "source": [
    "while(True):\n",
    "    check_price()\n",
    "    time.sleep(5)"
   ]
  },
  {
   "cell_type": "code",
   "execution_count": 75,
   "id": "69a450f8-d528-45f4-8175-333ba8525ddc",
   "metadata": {},
   "outputs": [
    {
     "data": {
      "text/html": [
       "<div>\n",
       "<style scoped>\n",
       "    .dataframe tbody tr th:only-of-type {\n",
       "        vertical-align: middle;\n",
       "    }\n",
       "\n",
       "    .dataframe tbody tr th {\n",
       "        vertical-align: top;\n",
       "    }\n",
       "\n",
       "    .dataframe thead th {\n",
       "        text-align: right;\n",
       "    }\n",
       "</style>\n",
       "<table border=\"1\" class=\"dataframe\">\n",
       "  <thead>\n",
       "    <tr style=\"text-align: right;\">\n",
       "      <th></th>\n",
       "      <th>Title</th>\n",
       "      <th>Price</th>\n",
       "      <th>Date</th>\n",
       "      <th>Brand</th>\n",
       "    </tr>\n",
       "  </thead>\n",
       "  <tbody>\n",
       "    <tr>\n",
       "      <th>0</th>\n",
       "      <td>Rhode by Hailey Bieber The Peptide Lip TINTS S...</td>\n",
       "      <td>84.9</td>\n",
       "      <td>2024-10-03</td>\n",
       "      <td>Rhode</td>\n",
       "    </tr>\n",
       "    <tr>\n",
       "      <th>1</th>\n",
       "      <td>Rhode by Hailey Bieber The Peptide Lip TINTS S...</td>\n",
       "      <td>84.9</td>\n",
       "      <td>2024-10-03</td>\n",
       "      <td>Rhode</td>\n",
       "    </tr>\n",
       "    <tr>\n",
       "      <th>2</th>\n",
       "      <td>Rhode by Hailey Bieber The Peptide Lip TINTS S...</td>\n",
       "      <td>84.9</td>\n",
       "      <td>2024-10-03</td>\n",
       "      <td>Rhode</td>\n",
       "    </tr>\n",
       "    <tr>\n",
       "      <th>3</th>\n",
       "      <td>Rhode by Hailey Bieber The Peptide Lip TINTS S...</td>\n",
       "      <td>84.9</td>\n",
       "      <td>2024-10-03</td>\n",
       "      <td>Rhode</td>\n",
       "    </tr>\n",
       "    <tr>\n",
       "      <th>4</th>\n",
       "      <td>Rhode by Hailey Bieber The Peptide Lip TINTS S...</td>\n",
       "      <td>84.9</td>\n",
       "      <td>2024-10-03</td>\n",
       "      <td>Rhode</td>\n",
       "    </tr>\n",
       "    <tr>\n",
       "      <th>5</th>\n",
       "      <td>Rhode by Hailey Bieber The Peptide Lip TINTS S...</td>\n",
       "      <td>84.9</td>\n",
       "      <td>2024-10-03</td>\n",
       "      <td>Rhode</td>\n",
       "    </tr>\n",
       "    <tr>\n",
       "      <th>6</th>\n",
       "      <td>Rhode by Hailey Bieber The Peptide Lip TINTS S...</td>\n",
       "      <td>84.9</td>\n",
       "      <td>2024-10-03</td>\n",
       "      <td>Rhode</td>\n",
       "    </tr>\n",
       "    <tr>\n",
       "      <th>7</th>\n",
       "      <td>Rhode by Hailey Bieber The Peptide Lip TINTS S...</td>\n",
       "      <td>84.9</td>\n",
       "      <td>2024-10-03</td>\n",
       "      <td>Rhode</td>\n",
       "    </tr>\n",
       "    <tr>\n",
       "      <th>8</th>\n",
       "      <td>Rhode by Hailey Bieber The Peptide Lip TINTS S...</td>\n",
       "      <td>84.9</td>\n",
       "      <td>2024-10-03</td>\n",
       "      <td>Rhode</td>\n",
       "    </tr>\n",
       "    <tr>\n",
       "      <th>9</th>\n",
       "      <td>Rhode by Hailey Bieber The Peptide Lip TINTS S...</td>\n",
       "      <td>84.9</td>\n",
       "      <td>2024-10-03</td>\n",
       "      <td>Rhode</td>\n",
       "    </tr>\n",
       "    <tr>\n",
       "      <th>10</th>\n",
       "      <td>Rhode by Hailey Bieber The Peptide Lip TINTS S...</td>\n",
       "      <td>84.9</td>\n",
       "      <td>2024-10-03</td>\n",
       "      <td>Rhode</td>\n",
       "    </tr>\n",
       "    <tr>\n",
       "      <th>11</th>\n",
       "      <td>Rhode by Hailey Bieber The Peptide Lip TINTS S...</td>\n",
       "      <td>84.9</td>\n",
       "      <td>2024-10-03</td>\n",
       "      <td>Rhode</td>\n",
       "    </tr>\n",
       "    <tr>\n",
       "      <th>12</th>\n",
       "      <td>Rhode by Hailey Bieber The Peptide Lip TINTS S...</td>\n",
       "      <td>84.9</td>\n",
       "      <td>2024-10-03</td>\n",
       "      <td>Rhode</td>\n",
       "    </tr>\n",
       "  </tbody>\n",
       "</table>\n",
       "</div>"
      ],
      "text/plain": [
       "                                                Title  Price        Date  \\\n",
       "0   Rhode by Hailey Bieber The Peptide Lip TINTS S...   84.9  2024-10-03   \n",
       "1   Rhode by Hailey Bieber The Peptide Lip TINTS S...   84.9  2024-10-03   \n",
       "2   Rhode by Hailey Bieber The Peptide Lip TINTS S...   84.9  2024-10-03   \n",
       "3   Rhode by Hailey Bieber The Peptide Lip TINTS S...   84.9  2024-10-03   \n",
       "4   Rhode by Hailey Bieber The Peptide Lip TINTS S...   84.9  2024-10-03   \n",
       "5   Rhode by Hailey Bieber The Peptide Lip TINTS S...   84.9  2024-10-03   \n",
       "6   Rhode by Hailey Bieber The Peptide Lip TINTS S...   84.9  2024-10-03   \n",
       "7   Rhode by Hailey Bieber The Peptide Lip TINTS S...   84.9  2024-10-03   \n",
       "8   Rhode by Hailey Bieber The Peptide Lip TINTS S...   84.9  2024-10-03   \n",
       "9   Rhode by Hailey Bieber The Peptide Lip TINTS S...   84.9  2024-10-03   \n",
       "10  Rhode by Hailey Bieber The Peptide Lip TINTS S...   84.9  2024-10-03   \n",
       "11  Rhode by Hailey Bieber The Peptide Lip TINTS S...   84.9  2024-10-03   \n",
       "12  Rhode by Hailey Bieber The Peptide Lip TINTS S...   84.9  2024-10-03   \n",
       "\n",
       "    Brand  \n",
       "0   Rhode  \n",
       "1   Rhode  \n",
       "2   Rhode  \n",
       "3   Rhode  \n",
       "4   Rhode  \n",
       "5   Rhode  \n",
       "6   Rhode  \n",
       "7   Rhode  \n",
       "8   Rhode  \n",
       "9   Rhode  \n",
       "10  Rhode  \n",
       "11  Rhode  \n",
       "12  Rhode  "
      ]
     },
     "execution_count": 75,
     "metadata": {},
     "output_type": "execute_result"
    }
   ],
   "source": [
    "df = pd.read_csv('WebScrapedData.csv')\n",
    "df"
   ]
  },
  {
   "cell_type": "code",
   "execution_count": null,
   "id": "f626be9b-b16d-48ff-847b-310a12a388be",
   "metadata": {},
   "outputs": [],
   "source": [
    "#Email notification\n",
    "\n",
    "def send_mail():\n",
    "    server = smtplib.SMTP_SSL('smtp.gmail.com',465)\n",
    "    server.ehlo()\n",
    "    server.ehlo()\n",
    "    server.login('sanjanagowda.hc25.com','xxxxxxxxxxxxxx')\n",
    "    \n",
    "    subject = 'Rhode now below $60!'\n",
    "    body = 'Time to get it... Link here: https://www.amazon.com/Rhode-Hailey-Bieber-Peptide-TOGETHER/dp/B0D5SLJHT6/ref=sr_1_10?crid=36CKOFF4HF4G2&dib=eyJ2IjoiMSJ9.P7TI6X-3sZWi1zKgRXTJCP3fopCMXnbnPynE6sBlL4YytrQ0Pq1N_fD8595acOClz5I7IJQspuHC9sOWd2e-BPt4gwVNOyFxNbAtGvOBdEdEgp2vDhRWrwxMPTixlmdU3CNgvy4LXBsdaDioDFRptEBb3afutabYvZk1Ftx-caMCRgpcwBMakrHPvk6S9tMcuV9nC59-f8I0bl0c2Ks62CsrZvNzgrJBbvvgwFCqL_LdD4aZH4QF8w-3IpBguNJJ9kmgs5uqEi_bCWKlJl2GCDq5oL0_IWvzHtXaigAcOH8.j4eUO6t2DwS8CAUHrVaUirEjVaLL9jMZaq-wPlDkz-A&dib_tag=se&keywords=rhode&qid=1727934516&sprefix=rhode%2Caps%2C109&sr=8-10'\n",
    "   \n",
    "    msg = f\"Subject: {subject}\\n\\n{body}\"\n",
    "    \n",
    "    server.sendmail(\n",
    "        'sanjanagowda.hc25@gmail.com',\n",
    "        msg\n",
    "     )"
   ]
  }
 ],
 "metadata": {
  "kernelspec": {
   "display_name": "Python 3 (ipykernel)",
   "language": "python",
   "name": "python3"
  },
  "language_info": {
   "codemirror_mode": {
    "name": "ipython",
    "version": 3
   },
   "file_extension": ".py",
   "mimetype": "text/x-python",
   "name": "python",
   "nbconvert_exporter": "python",
   "pygments_lexer": "ipython3",
   "version": "3.12.4"
  }
 },
 "nbformat": 4,
 "nbformat_minor": 5
}
